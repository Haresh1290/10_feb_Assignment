{
 "cells": [
  {
   "cell_type": "code",
   "execution_count": 1,
   "id": "4faee364-dfc9-4828-b55d-e53d9837a93d",
   "metadata": {},
   "outputs": [],
   "source": [
    "#Problem_1\n",
    "\"\"\"\n",
    "In Python, we use the open() method to open files.\n",
    "To demonstrate how we open files in Python, let's suppose we have a file named test.txt with the following content.\"\"\"\n",
    "\n",
    "# open file in current directory\n",
    "file1 = open(\"test.txt\")\n",
    "\n",
    "\"\"\"\n",
    "Mode\tDescription\n",
    "r\tOpen a file for reading. (default)\n",
    "w\tOpen a file for writing. Creates a new file if it does not exist or truncates the file if it exists.\n",
    "x\tOpen a file for exclusive creation. If the file already exists, the operation fails.\n",
    "a\tOpen a file for appending at the end of the file without truncating it. Creates a new file if it does not exist.\n",
    "t\tOpen in text mode. (default)\n",
    "b\tOpen in binary mode.\n",
    "+\tOpen a file for updating (reading and writing)\n",
    "\"\"\"\n",
    "\n",
    "file1 = open(\"test.txt\")      # equivalent to 'r' or 'rt'\n",
    "file1 = open(\"test.txt\",'w')  # write in text mode\n"
   ]
  },
  {
   "cell_type": "code",
   "execution_count": 3,
   "id": "27fb7687-1ec5-46ce-9c92-30745f9ed664",
   "metadata": {},
   "outputs": [
    {
     "name": "stdout",
     "output_type": "stream",
     "text": [
      "\n"
     ]
    },
    {
     "data": {
      "text/plain": [
       "\"\\nWhen we are done with performing operations on the file, we need to properly close the file.\\nClosing a file will free up the resources that were tied with the file. It is done using the close() \\nmethod in Python.\\nHere, we have used the close() method to close the file.\\nAfter we perform file operation, we should always close the file; it's a good programming practice.\\n\""
      ]
     },
     "execution_count": 3,
     "metadata": {},
     "output_type": "execute_result"
    }
   ],
   "source": [
    "#Problem_2\n",
    "\n",
    "\"\"\"\n",
    "The close() method closes an open file.\n",
    "You should always close your files, in some cases, due to buffering, \n",
    "changes made to a file may not show until you close the file.\n",
    "\"\"\"\n",
    "\n",
    "# open a file\n",
    "file1 = open(\"test.txt\", \"r\")\n",
    "\n",
    "# read the file\n",
    "read_content = file1.read()\n",
    "print(read_content)\n",
    "\n",
    "# close the file\n",
    "file1.close()\n",
    "\n",
    "\"\"\"\n",
    "When we are done with performing operations on the file, we need to properly close the file.\n",
    "Closing a file will free up the resources that were tied with the file. It is done using the close() \n",
    "method in Python.\n",
    "Here, we have used the close() method to close the file.\n",
    "After we perform file operation, we should always close the file; it's a good programming practice.\n",
    "\"\"\"\n",
    "\n",
    "\n"
   ]
  },
  {
   "cell_type": "code",
   "execution_count": null,
   "id": "793b8ff5-ede7-4376-b939-dfb736f4cbc8",
   "metadata": {},
   "outputs": [],
   "source": [
    "#Problem_3\n",
    "\n",
    "\n",
    "# open a file\n",
    "f = open(\"sci.txt\",'w')\n",
    "\n",
    "\n",
    "# write the file\n",
    "f.write(\"I want to become a Data Scientist\")\n",
    "\n",
    "\n",
    "# close the file\n",
    "f.close()\n",
    "\n",
    "\n",
    "# read the file\n",
    "f.read()\n",
    "\n",
    "\n",
    "\n",
    "\n"
   ]
  },
  {
   "cell_type": "code",
   "execution_count": 4,
   "id": "f3e249fd-850a-4022-90ff-bd61a1624d5d",
   "metadata": {},
   "outputs": [
    {
     "data": {
      "text/plain": [
       "'\\nreadlines() : Reads all the lines and return them as each line a string element in a list.\\nFile_object.readlines()\\n'"
      ]
     },
     "execution_count": 4,
     "metadata": {},
     "output_type": "execute_result"
    }
   ],
   "source": [
    "#problem_4\n",
    "\"\"\"\n",
    "read() : Returns the read bytes in form of a string. Reads n bytes, if no n specified, reads the entire file.\n",
    "File_object.read([n])\n",
    "\"\"\"\n",
    "\n",
    "\n",
    "\"\"\"\n",
    "readline() : Reads a line of the file and returns in form of a string.For specified n, reads at most n bytes. \n",
    "However, does not reads more than one line, even if n exceeds the length of the line.\n",
    "File_object.readline([n])\n",
    "\"\"\"\n",
    "\n",
    "\"\"\"\n",
    "readlines() : Reads all the lines and return them as each line a string element in a list.\n",
    "File_object.readlines()\n",
    "\"\"\""
   ]
  },
  {
   "cell_type": "code",
   "execution_count": null,
   "id": "e85f0fbb-b961-458a-aa50-a9d4b05ccfea",
   "metadata": {},
   "outputs": [],
   "source": [
    "#Problem_5\n",
    "\"\"\"\n",
    "In Python, with statement is used in exception handling to make the code cleaner and much more readable. \n",
    "It simplifies the management of common resources like file streams. Observe the following code example on \n",
    "how the use of with statement makes code cleaner. \n",
    "\"\"\"\n",
    "# file handling\n",
    "\n",
    "# 1) without using with statement\n",
    "file = open('file_path', 'w')\n",
    "file.write('hello world !')\n",
    "file.close()\n",
    "\n",
    "# 2) without using with statement\n",
    "file = open('file_path', 'w')\n",
    "try:\n",
    "\tfile.write('hello world')\n",
    "finally:\n",
    "\tfile.close()\n",
    "\n",
    "# 3) using with statement\n",
    "with open('file_path', 'w') as file:\n",
    "\tfile.write('hello world !')\n",
    "    \n",
    "\"\"\"\n",
    "Notice that unlike the first two implementations, there is no need to call file.close() when using with statement.\n",
    "The with statement itself ensures proper acquisition and release of resources. An exception during the file.write() \n",
    "call in the first implementation can prevent the file from closing properly which may introduce several bugs in the \n",
    "code, i.e. many changes in files do not go into effect until the file is properly closed. The second approach in the \n",
    "above example takes care of all the exceptions but using the with statement makes the code compact and much more readable.\n",
    "Thus, with statement helps avoiding bugs and leaks by ensuring that a resource is properly released when the code using the \n",
    "resource is completely executed. The with statement is popularly used with file streams, as shown above and with Locks, sockets,\n",
    "subprocesses and telnets etc.\n",
    "\"\"\"\n",
    "\n",
    "\n",
    "\n"
   ]
  },
  {
   "cell_type": "code",
   "execution_count": null,
   "id": "8170a54c-10c0-4a56-b96f-09d635fc34de",
   "metadata": {},
   "outputs": [
    {
     "name": "stdin",
     "output_type": "stream",
     "text": [
      "Enter the name of the employee:  harry\n"
     ]
    }
   ],
   "source": [
    "#problem_6\n",
    "\n",
    "\"\"\"write() function\n",
    "The write() function will write the content in the file without adding any extra characters.\n",
    "\"\"\"\n",
    "# Writes string content referenced by file object.\n",
    "# file_name.write(content) \n",
    "\"\"\"\n",
    "As per the syntax, the string that is passed to the write() function is written into the opened file. \n",
    "The string may include numbers, special characters, or symbols. While writing data to a file, \n",
    "we must know that the write function does not add a newline character(\\n) to the end of the string. \n",
    "The write() function returns None.\n",
    "\"\"\"\n",
    "file = open(\"Employees.txt\", \"w\")\n",
    "\n",
    "for i in range(3):\n",
    "    name = input(\"Enter the name of the employee: \")\n",
    "    file.write(name)\n",
    "    file.write(\"\\n\")\n",
    "\t\n",
    "file.close()\n",
    "\n",
    "print(\"Data is written into the file.\")\n",
    "\n",
    "\n",
    "\"\"\"\n",
    "writelines() function\n",
    "This function writes the content of a list to a file.\n",
    "\"\"\"\n",
    "\n",
    "# write all the strings present in the list \"list_of_lines\" \n",
    "# referenced by file object.\n",
    "# file_name.writelines(list_of_lines)\n",
    "\n",
    "\"\"\"\n",
    "As per the syntax, the list of strings that is passed to the writelines() function is written into the opened file. \n",
    "Similar to the write() function, the writelines() function does not add a newline character(\\n) to the end of the string.\n",
    "\"\"\"\n",
    "\n",
    "file1 = open(\"Employees.txt\", \"w\")\n",
    "lst = []\n",
    "for i in range(3):\n",
    "\tname = input(\"Enter the name of the employee: \")\n",
    "\tlst.append(name + '\\n')\n",
    "\t\n",
    "file1.writelines(lst)\n",
    "file1.close()\n",
    "print(\"Data is written into the file.\")\n"
   ]
  },
  {
   "cell_type": "code",
   "execution_count": null,
   "id": "0d37d903-875d-449b-9918-c3215a42b9d8",
   "metadata": {},
   "outputs": [],
   "source": []
  }
 ],
 "metadata": {
  "kernelspec": {
   "display_name": "Python 3 (ipykernel)",
   "language": "python",
   "name": "python3"
  },
  "language_info": {
   "codemirror_mode": {
    "name": "ipython",
    "version": 3
   },
   "file_extension": ".py",
   "mimetype": "text/x-python",
   "name": "python",
   "nbconvert_exporter": "python",
   "pygments_lexer": "ipython3",
   "version": "3.10.8"
  }
 },
 "nbformat": 4,
 "nbformat_minor": 5
}
